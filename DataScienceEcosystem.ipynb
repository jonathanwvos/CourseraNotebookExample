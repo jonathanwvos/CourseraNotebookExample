{
 "cells": [
  {
   "cell_type": "markdown",
   "id": "ace74781-e990-40fb-981f-98784f489e0d",
   "metadata": {},
   "source": [
    "# Data Science Tools and Ecosystem"
   ]
  },
  {
   "cell_type": "markdown",
   "id": "d2f4d800-cb98-4357-ac6d-e2e328f691aa",
   "metadata": {},
   "source": [
    "In this notebook, Data Science Tools and Ecosystem are summarized."
   ]
  },
  {
   "cell_type": "markdown",
   "id": "1bf7a287-596e-4a2b-b32f-9f027726cd55",
   "metadata": {},
   "source": [
    "Some of the popular languages that Data Scientists use are:\n",
    "1. Python\n",
    "2. Java\n",
    "3. SQL\n",
    "4. Julia\n",
    "5. R\n",
    "6. C++"
   ]
  },
  {
   "cell_type": "markdown",
   "id": "e12aec66-546d-44f0-a534-7cdf7777863e",
   "metadata": {},
   "source": [
    "Some of the commonly used libraries used by Data Scientists include:\n",
    "1. Pandas\n",
    "2. Numpy\n",
    "3. Scikit-learn\n",
    "4. Scipy\n",
    "5. Tensorflow\n",
    "6. Pytorch"
   ]
  },
  {
   "cell_type": "markdown",
   "id": "db943c98-f6eb-47d7-b801-12f05abe14f5",
   "metadata": {},
   "source": [
    "|Tool|\n",
    "|---|\n",
    "|git|\n",
    "|VS Code|\n",
    "|Jupyter Lab|"
   ]
  },
  {
   "cell_type": "markdown",
   "id": "419eb420-2170-4039-8151-9017c3235e3a",
   "metadata": {},
   "source": [
    "### Below are a few examples of evaluating arithmetic expressions in Python."
   ]
  },
  {
   "cell_type": "code",
   "execution_count": 3,
   "id": "26da102a-0e30-499c-8939-5458f912b125",
   "metadata": {},
   "outputs": [
    {
     "data": {
      "text/plain": [
       "17"
      ]
     },
     "execution_count": 3,
     "metadata": {},
     "output_type": "execute_result"
    }
   ],
   "source": [
    "# This a simple arithmetic expression to mutiply then add integers\n",
    "(3*4)+5"
   ]
  },
  {
   "cell_type": "code",
   "execution_count": 4,
   "id": "c9b9d3d5-6916-4d5c-947c-13d00d5af057",
   "metadata": {},
   "outputs": [
    {
     "data": {
      "text/plain": [
       "3.3333333333333335"
      ]
     },
     "execution_count": 4,
     "metadata": {},
     "output_type": "execute_result"
    }
   ],
   "source": [
    "# This will convert 200 minutes to hours by dividing by 60.\n",
    "200/60"
   ]
  },
  {
   "cell_type": "markdown",
   "id": "68f7eb9a-776d-41a0-9cb3-2de2995a0c21",
   "metadata": {},
   "source": [
    "**Objectives:**\n",
    "* Create a cell with title.\n",
    "* Create a cell with some text.\n",
    "* List some popular Data Science languages.\n",
    "* List some popular Data Science libraries.\n",
    "* Evaluate some arithmetic expressions."
   ]
  },
  {
   "cell_type": "markdown",
   "id": "75240a67-e38a-4685-a734-6961d5dce4be",
   "metadata": {},
   "source": [
    "## Author\n",
    "Jonathan W. Vos"
   ]
  }
 ],
 "metadata": {
  "kernelspec": {
   "display_name": "Python 3 (ipykernel)",
   "language": "python",
   "name": "python3"
  },
  "language_info": {
   "codemirror_mode": {
    "name": "ipython",
    "version": 3
   },
   "file_extension": ".py",
   "mimetype": "text/x-python",
   "name": "python",
   "nbconvert_exporter": "python",
   "pygments_lexer": "ipython3",
   "version": "3.10.11"
  }
 },
 "nbformat": 4,
 "nbformat_minor": 5
}
